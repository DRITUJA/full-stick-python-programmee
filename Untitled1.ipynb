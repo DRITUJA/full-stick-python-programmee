{
 "cells": [
  {
   "cell_type": "code",
   "execution_count": 1,
   "id": "a829191e-70f0-4d85-a850-6b6d9729a783",
   "metadata": {},
   "outputs": [
    {
     "name": "stdout",
     "output_type": "stream",
     "text": [
      "Hello,Python Full Stack Students!\n"
     ]
    }
   ],
   "source": [
    "print(\"Hello,Python Full Stack Students!\")"
   ]
  },
  {
   "cell_type": "code",
   "execution_count": 2,
   "id": "23121585-1363-48c6-96e2-d2ed37813f57",
   "metadata": {},
   "outputs": [
    {
     "name": "stdout",
     "output_type": "stream",
     "text": [
      "hi,santhoshini!\n"
     ]
    }
   ],
   "source": [
    "print(\"hi,santhoshini!\")"
   ]
  },
  {
   "cell_type": "code",
   "execution_count": 3,
   "id": "c477a201-a7f9-4156-addd-3bc06a1c4796",
   "metadata": {},
   "outputs": [
    {
     "name": "stdout",
     "output_type": "stream",
     "text": [
      "i am rituja!\n"
     ]
    }
   ],
   "source": [
    "print(\"i am rituja!\")"
   ]
  },
  {
   "cell_type": "code",
   "execution_count": 4,
   "id": "58be162d-fc64-4c56-a877-68e46eb06178",
   "metadata": {},
   "outputs": [
    {
     "name": "stdout",
     "output_type": "stream",
     "text": [
      "avinash college of commerce\n"
     ]
    }
   ],
   "source": [
    "print(\"avinash college of commerce\")"
   ]
  },
  {
   "cell_type": "code",
   "execution_count": 5,
   "id": "61421a29-ead4-444a-bc00-306668e16854",
   "metadata": {},
   "outputs": [
    {
     "name": "stdout",
     "output_type": "stream",
     "text": [
      "good afternoon\n"
     ]
    }
   ],
   "source": [
    "print(\"good afternoon\")"
   ]
  },
  {
   "cell_type": "markdown",
   "id": "b56efbe7-fefa-4357-85a6-9a26498c5b95",
   "metadata": {},
   "source": [
    "print(name,age,gpa,is_student)"
   ]
  },
  {
   "cell_type": "code",
   "execution_count": 18,
   "id": "96ac8b23-d73d-4f91-b9d2-c4e9939d0a2c",
   "metadata": {},
   "outputs": [
    {
     "name": "stdout",
     "output_type": "stream",
     "text": [
      "RITUJA 18 9.0 True\n"
     ]
    }
   ],
   "source": [
    "name=\"RITUJA\"\n",
    "age=18\n",
    "gpa=9.0\n",
    "is_student=True\n",
    "print(name,age,gpa,is_student)"
   ]
  },
  {
   "cell_type": "code",
   "execution_count": 20,
   "id": "1d2f0fa7-86f2-4e24-8e21-9ea3e844f409",
   "metadata": {},
   "outputs": [
    {
     "name": "stdout",
     "output_type": "stream",
     "text": [
      "<class 'int'> <class 'float'> <class 'str'> <class 'bool'>\n"
     ]
    }
   ],
   "source": [
    "x=10\n",
    "y=3.14\n",
    "z=\"python\"\n",
    "flag=False\n",
    "print(type(x),type(y),type(z),type(flag))"
   ]
  },
  {
   "cell_type": "code",
   "execution_count": 21,
   "id": "5f57889e-8559-477f-9251-bd0544a1bc4a",
   "metadata": {},
   "outputs": [
    {
     "name": "stdout",
     "output_type": "stream",
     "text": [
      "rituja,avinash college of commerce.english\n"
     ]
    }
   ],
   "source": [
    "print(\"rituja,avinash college of commerce.english\")"
   ]
  },
  {
   "cell_type": "code",
   "execution_count": 22,
   "id": "319a3a89-983d-4e0f-83bb-552f3760819f",
   "metadata": {},
   "outputs": [
    {
     "name": "stdout",
     "output_type": "stream",
     "text": [
      "18\n"
     ]
    }
   ],
   "source": [
    "birth_year=2007\n",
    "current_year=2025\n",
    "print(current_year-birth_year)\n"
   ]
  },
  {
   "cell_type": "code",
   "execution_count": 28,
   "id": "85a28df8-0603-46f2-a189-8ac10ebc1dd7",
   "metadata": {},
   "outputs": [
    {
     "name": "stdout",
     "output_type": "stream",
     "text": [
      "kgf2 2022 9.0\n"
     ]
    }
   ],
   "source": [
    "movie_name=\"kgf2\"\n",
    "release_year=2022\n",
    "rating=9.0\n",
    "print(movie_name,release_year,rating)"
   ]
  },
  {
   "cell_type": "code",
   "execution_count": 30,
   "id": "01fa1670-dfeb-43fa-a714-d37c2ffcfede",
   "metadata": {},
   "outputs": [
    {
     "name": "stdout",
     "output_type": "stream",
     "text": [
      "addition 19\n",
      "division: 3.75\n",
      "floor_division: 3\n",
      "power: 50625\n"
     ]
    }
   ],
   "source": [
    "a=15\n",
    "b=4\n",
    "print(\"addition\",a+b)\n",
    "print(\"division:\",a/b)\n",
    "print(\"floor_division:\",a//b)\n",
    "print(\"power:\",a**b)"
   ]
  },
  {
   "cell_type": "code",
   "execution_count": 31,
   "id": "7affc252-8ed1-4bd0-91a1-20a4a6172d56",
   "metadata": {},
   "outputs": [
    {
     "name": "stdout",
     "output_type": "stream",
     "text": [
      "False\n",
      "True\n",
      "True\n"
     ]
    }
   ],
   "source": [
    "a=10\n",
    "b=20\n",
    "print(a>b)#false\n",
    "print(a==10)#true\n",
    "print((a<b)and(b==20))#true"
   ]
  },
  {
   "cell_type": "code",
   "execution_count": null,
   "id": "e1400ff8-5e7c-49b3-bbf3-8261d5954d16",
   "metadata": {},
   "outputs": [],
   "source": []
  },
  {
   "cell_type": "code",
   "execution_count": null,
   "id": "36bd1731-a697-494f-be29-58c02fb45729",
   "metadata": {},
   "outputs": [],
   "source": []
  }
 ],
 "metadata": {
  "kernelspec": {
   "display_name": "Python [conda env:base] *",
   "language": "python",
   "name": "conda-base-py"
  },
  "language_info": {
   "codemirror_mode": {
    "name": "ipython",
    "version": 3
   },
   "file_extension": ".py",
   "mimetype": "text/x-python",
   "name": "python",
   "nbconvert_exporter": "python",
   "pygments_lexer": "ipython3",
   "version": "3.13.5"
  }
 },
 "nbformat": 4,
 "nbformat_minor": 5
}
